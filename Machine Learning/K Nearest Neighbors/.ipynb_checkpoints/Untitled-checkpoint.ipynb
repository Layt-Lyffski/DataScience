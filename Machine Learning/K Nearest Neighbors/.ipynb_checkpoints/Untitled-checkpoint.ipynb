{
 "cells": [
  {
   "cell_type": "code",
   "execution_count": 28,
   "metadata": {},
   "outputs": [
    {
     "name": "stdout",
     "output_type": "stream",
     "text": [
      "[('r', 3)]\n",
      "r\n"
     ]
    },
    {
     "data": {
      "image/png": "[encoded data removed]",
      "text/plain": [
       "<Figure size 432x288 with 1 Axes>"
      ]
     },
     "metadata": {
      "needs_background": "light"
     },
     "output_type": "display_data"
    }
   ],
   "source": [
    "from collections import Counter\n",
    "import numpy as np\n",
    "import matplotlib.pyplot as plt\n",
    "\n",
    "dataset = {\"k\":[[1,2],[2,3],[3,1]], \"r\":[[6,5],[7,7],[8,6]]}\n",
    "new_features = [8,8]\n",
    "\n",
    "def euclidean_distance(data, predict, k=3):\n",
    "   distance = []\n",
    "   for group in data:\n",
    "      for features in data[group]:\n",
    "         euclidean_dist = np.linalg.norm(np.array(features)-np.array(predict))\n",
    "         distance.append([euclidean_dist, group])\n",
    "   pulls = [i[1] for i in sorted(distance)[:k]]\n",
    "   print(Counter(pulls).most_common(1))\n",
    "   pull_result = Counter(pulls).most_common(1)[0][0]\n",
    "   return pull_result\n",
    "\n",
    "result = euclidean_distance(dataset, new_features, k=3)\n",
    "print(result)\n",
    "\n",
    "[[plt.scatter(ii[0],ii[1], s=100, color=i) for ii in dataset[i]] for i in dataset]\n",
    "plt.scatter(new_features[0],new_features[1], s=50, color=result)\n",
    "plt.show()"
   ]
  },
  {
   "cell_type": "code",
   "execution_count": null,
   "metadata": {},
   "outputs": [],
   "source": []
  },
  {
   "cell_type": "code",
   "execution_count": null,
   "metadata": {},
   "outputs": [],
   "source": []
  }
 ],
 "metadata": {
  "kernelspec": {
   "display_name": "Python 3",
   "language": "python",
   "name": "python3"
  },
  "language_info": {
   "codemirror_mode": {
    "name": "ipython",
    "version": 3
   },
   "file_extension": ".py",
   "mimetype": "text/x-python",
   "name": "python",
   "nbconvert_exporter": "python",
   "pygments_lexer": "ipython3",
   "version": "3.8.2"
  }
 },
 "nbformat": 4,
 "nbformat_minor": 4
}
