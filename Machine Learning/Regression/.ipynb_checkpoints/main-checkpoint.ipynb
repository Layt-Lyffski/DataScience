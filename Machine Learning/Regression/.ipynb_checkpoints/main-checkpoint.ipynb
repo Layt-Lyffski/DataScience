{
 "cells": [
  {
   "cell_type": "markdown",
   "metadata": {},
   "source": [
    "## Anova - ANalysis Of VAriance is a variability ratio\n",
    "Null hypothesis := $H_0 = \\mu_1 = \\mu_2 = \\mu_3$ <br>\n",
    "red lines: Variability AMONG/BETWEEN the means <br>\n",
    "blue lines: Variability AROUND/WITHIN the distributions <br>\n",
    "<img src=\"pic\\anova.o.png\">"
   ]
  },
  {
   "cell_type": "markdown",
   "metadata": {},
   "source": [
    "## Linear Regression\n",
    "General:\n",
    "$$E(y) = \\beta_0 + \\beta_1x$$\n",
    "$$y = b_0 + b_1x$$\n",
    "Slope:\n",
    "$$b_1 = \\frac{\\Sigma(x_i-\\hat{x})(y_i-\\hat{y})}{\\Sigma(x_i-\\bar{x})^2}$$\n",
    "Intercept:\n",
    "$$b_0 = \\bar{y}-b_1\\bar{x}$$\n",
    "\n",
    "E.G.\n",
    "<img src=\"pic\\lr.rex.png\">\n",
    "<img src=\"pic\\lr.ssert.png\">"
   ]
  },
  {
   "cell_type": "code",
   "execution_count": null,
   "metadata": {},
   "outputs": [],
   "source": []
  }
 ],
 "metadata": {
  "kernelspec": {
   "display_name": "Python 3",
   "language": "python",
   "name": "python3"
  },
  "language_info": {
   "codemirror_mode": {
    "name": "ipython",
    "version": 3
   },
   "file_extension": ".py",
   "mimetype": "text/x-python",
   "name": "python",
   "nbconvert_exporter": "python",
   "pygments_lexer": "ipython3",
   "version": "3.7.6"
  }
 },
 "nbformat": 4,
 "nbformat_minor": 4
}
