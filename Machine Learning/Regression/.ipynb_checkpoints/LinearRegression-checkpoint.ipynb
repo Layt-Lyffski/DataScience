{
 "cells": [
  {
   "cell_type": "markdown",
   "metadata": {},
   "source": [
    "## Anova - ANalysis Of VAriance is a variability ratio\n",
    "Null hypothesis := $H_0 = \\mu_1 = \\mu_2 = \\mu_3$ <br>\n",
    "red lines: Variability AMONG/BETWEEN the means <br>\n",
    "blue lines: Variability AROUND/WITHIN the distributions <br>\n",
    "<img src=\"pic\\anova.o.png\">"
   ]
  },
  {
   "cell_type": "markdown",
   "metadata": {},
   "source": [
    "## Linear Regression\n",
    "General:\n",
    "$$E(y) = \\beta_0 + \\beta_1x$$\n",
    "$$y = b_0 + b_1x$$\n",
    "Slope:\n",
    "$$b_1 = \\frac{\\Sigma(x_i-\\bar{x})(y_i-\\bar{y})}{\\Sigma(x_i-\\bar{x})^2} == m = \\frac{\\bar{x}*\\bar{y}-\\bar{xy}}{(\\bar{x})^2-\\bar{x^2}}$$\n",
    "Intercept:\n",
    "$$b_0 = \\bar{y}-b_1\\bar{x}$$\n",
    "hat-values/variable are the predicted ones\n",
    "\n",
    "E.G.\n",
    "<img src=\"pic\\lr.rex.png\">\n",
    "<img src=\"pic\\lr.ssert.png\">\n",
    "if Standardized Regression the centroid is zero (you get rid of the $b_0$) => everything is related<br>\n",
    "==> you get the \"Einheit\" yk"
   ]
  },
  {
   "cell_type": "code",
   "execution_count": 45,
   "metadata": {},
   "outputs": [
    {
     "name": "stdout",
     "output_type": "stream",
     "text": [
      "[2.489035409035409, 4.978070818070818, 7.4671062271062265, 9.956141636141636, 12.445177045177045, 14.934212454212453]\n"
     ]
    },
    {
     "data": {
      "image/png": "[encoded data removed]",
      "text/plain": [
       "<Figure size 432x288 with 1 Axes>"
      ]
     },
     "metadata": {
      "needs_background": "light"
     },
     "output_type": "display_data"
    }
   ],
   "source": [
    "from statistics import mean\n",
    "import numpy as np\n",
    "import matplotlib.pyplot as pln\n",
    "\n",
    "xs = np.array([1,2,3,4,5,6])\n",
    "ys = np.array([4.2,5,4.8,5.2,6.7,6.9])\n",
    "def bestSlope(xs,ys):\n",
    "    m, divident, divisor = 0,0,0\n",
    "    for i in range(len(ys)):\n",
    "        divident += ((xs[i]*mean(xs)) * (ys[i]*mean(ys))) \n",
    "        divisor += (xs[i]*mean(xs))**2\n",
    "        m = divident / divisor\n",
    "        \n",
    "    return m\n",
    "m = bestSlope(xs,ys)"
   ]
  },
  {
   "cell_type": "code",
   "execution_count": null,
   "metadata": {},
   "outputs": [],
   "source": []
  },
  {
   "cell_type": "code",
   "execution_count": null,
   "metadata": {},
   "outputs": [],
   "source": []
  }
 ],
 "metadata": {
  "kernelspec": {
   "display_name": "Python 3",
   "language": "python",
   "name": "python3"
  },
  "language_info": {
   "codemirror_mode": {
    "name": "ipython",
    "version": 3
   },
   "file_extension": ".py",
   "mimetype": "text/x-python",
   "name": "python",
   "nbconvert_exporter": "python",
   "pygments_lexer": "ipython3",
   "version": "3.7.6"
  }
 },
 "nbformat": 4,
 "nbformat_minor": 4
}
