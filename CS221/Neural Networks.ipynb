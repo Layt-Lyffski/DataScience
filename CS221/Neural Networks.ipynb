{
 "cells": [
  {
   "cell_type": "markdown",
   "metadata": {},
   "source": [
    "# Neutral Networks\n",
    "---\n",
    "Algorithms that try to mimic the brain.<br>\n",
    "## Representation\n",
    "---\n",
    "##### Notation\n",
    "$a_i^{(j)}$ = \"activation\" of unit $i$ in layer $j$<br>\n",
    "$\\Theta^{(j)}$ = matrix of weigths/parameters controlling fucniton mapping formm layer $j$ to layer $j+$<br>\n",
    "L = total no. of layers in network <br>\n",
    "$s_l$ = no. of units (not counting bias unit) in layer $l$<br>\n",
    "\n",
    "If network has $s_j$ units in layer $j$, $s_j+1$ units in layer $j+1$, then$\\Theta^{(j)}$ will be of demeinsion $s_j+1\\times(s_j +1)$<br>\n",
    "__Thus__ neutral network is __compute succesfully__<br><br>\n",
    "\n",
    "##### Visualization by Andrew Ng\n",
    "<img src=\"pic\\forward_propagation.png\"><br>\n",
    "\n",
    "##### Intuition\n",
    "<img src=\"pic\\xnor_nn.png\">"
   ]
  },
  {
   "cell_type": "markdown",
   "metadata": {},
   "source": [
    "## Classification\n",
    "---\n",
    "#### Binary classifaction\n",
    "$y$ = 0 or 1<br>\n",
    "1 output unit<br>\n",
    "\n",
    "#### Mulit-class classification (K classes)\n",
    "$y from R^K$<br>\n",
    "K output units<br>\n",
    "### Cost function\n",
    "#### Logistic regression\n"
   ]
  },
  {
   "cell_type": "code",
   "execution_count": null,
   "metadata": {},
   "outputs": [],
   "source": []
  }
 ],
 "metadata": {
  "kernelspec": {
   "display_name": "Python 3",
   "language": "python",
   "name": "python3"
  },
  "language_info": {
   "codemirror_mode": {
    "name": "ipython",
    "version": 3
   },
   "file_extension": ".py",
   "mimetype": "text/x-python",
   "name": "python",
   "nbconvert_exporter": "python",
   "pygments_lexer": "ipython3",
   "version": "3.8.2"
  }
 },
 "nbformat": 4,
 "nbformat_minor": 4
}
