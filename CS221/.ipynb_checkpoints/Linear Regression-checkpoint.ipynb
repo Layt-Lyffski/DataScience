{
 "cells": [
  {
   "cell_type": "code",
   "execution_count": null,
   "metadata": {},
   "outputs": [],
   "source": [
    "#imports\n",
    "import matplotlib.pyplot as plt\n",
    "import numpy as np"
   ]
  },
  {
   "cell_type": "markdown",
   "metadata": {},
   "source": [
    "# Mechine Learning Definition\n",
    "_\"Field of study that gives computers the ability to learn without beging expilicty programmed.\"_ ~Arthur Samuel (1959)<br>\n",
    "_\"A computer program is said to learn from experience E with respect to some task T and some preformance measure P, if its preformence on T, as measured by P, improves with experiece E.\"_ ~Tom Mitchell (1998)\n",
    "<br>\n",
    "## Supervised Learning\n",
    "Given the _\"right answers\"_ for each example in the data \n",
    "__Regression:__ Predict continuous valued output\n",
    "__Classification:__ Discrete valued output (0 or 1)\n",
    "<br>\n",
    "## Unsupervised Learning \n",
    "here is dataset can you finde some structure ex.(break same data type into two clusters) \n",
    "__Clustering__ used to  Organize Computing clusteres, Social network analysis, Market segmentation, Astronomical data analysis"
   ]
  },
  {
   "cell_type": "markdown",
   "metadata": {},
   "source": [
    "# Linear Regression\n",
    "__Notation:__<br>\n",
    "m = Number of training examples<br>\n",
    "x´s = \"input\" variable/features<br>\n",
    "y´s = \"output\" variable/feaures<br>\n",
    "$x^{(i)}$ = value x indexed with i\n",
    "## Univariate Linear Regression\n",
    "Training Set -> Learning Algorithm -> hypothesis(x) -> output: y\n",
    "__Hypothesis:__ $h_\\theta(x) = \\theta_0 + \\theta_1 x$\n",
    "## Cost function\n",
    "__Idea:__ Choose $\\theta_0$,$\\theta_1$ so that $h_\\theta (x)$ is close to $y$ for our traning examples $(x,y)$<br>\n",
    "__Cost Function:__<br>\n",
    "$$J(\\theta_0,\\theta_1) = \\frac{1}{2m} \\sum\\limits_{i=1}^m(h\\theta_0(x^{(i)})-y^{(i)})^2$$\n",
    "__Goal:__ $\\binom{minimize}{\\theta_0,\\theta_1}$ $J(\\theta_0,\\theta_1)$ => Squared error Cost function\n",
    "\n"
   ]
  },
  {
   "cell_type": "markdown",
   "metadata": {},
   "source": [
    "__$$h_\\theta(x)$$__\n",
    "(for fixes $\\theta_1$, this is a function of $x$)"
   ]
  },
  {
   "cell_type": "code",
   "execution_count": 58,
   "metadata": {},
   "outputs": [
    {
     "ename": "IndexError",
     "evalue": "list index out of range",
     "output_type": "error",
     "traceback": [
      "\u001b[1;31m---------------------------------------------------------------------------\u001b[0m",
      "\u001b[1;31mIndexError\u001b[0m                                Traceback (most recent call last)",
      "\u001b[1;32m<ipython-input-58-64b38b50135a>\u001b[0m in \u001b[0;36m<module>\u001b[1;34m\u001b[0m\n\u001b[0;32m      8\u001b[0m \u001b[1;32mfor\u001b[0m \u001b[0mlt\u001b[0m \u001b[1;32min\u001b[0m \u001b[0mpoints\u001b[0m\u001b[1;33m:\u001b[0m\u001b[1;33m\u001b[0m\u001b[1;33m\u001b[0m\u001b[0m\n\u001b[0;32m      9\u001b[0m     \u001b[1;32mfor\u001b[0m \u001b[0mx\u001b[0m \u001b[1;32min\u001b[0m \u001b[0mlt\u001b[0m\u001b[1;33m:\u001b[0m\u001b[1;33m\u001b[0m\u001b[1;33m\u001b[0m\u001b[0m\n\u001b[1;32m---> 10\u001b[1;33m         \u001b[0mplt\u001b[0m\u001b[1;33m.\u001b[0m\u001b[0mscatter\u001b[0m\u001b[1;33m(\u001b[0m\u001b[0mpoints\u001b[0m\u001b[1;33m[\u001b[0m\u001b[0mxi\u001b[0m\u001b[1;33m]\u001b[0m\u001b[1;33m,\u001b[0m\u001b[0mpoints\u001b[0m\u001b[1;33m[\u001b[0m\u001b[0mxi\u001b[0m\u001b[1;33m]\u001b[0m\u001b[1;33m)\u001b[0m\u001b[1;33m\u001b[0m\u001b[1;33m\u001b[0m\u001b[0m\n\u001b[0m\u001b[0;32m     11\u001b[0m \u001b[0mplt\u001b[0m\u001b[1;33m.\u001b[0m\u001b[0mxlabel\u001b[0m\u001b[1;33m(\u001b[0m\u001b[1;34m\"x\"\u001b[0m\u001b[1;33m,\u001b[0m \u001b[0mcolor\u001b[0m\u001b[1;33m=\u001b[0m\u001b[1;34m\"r\"\u001b[0m\u001b[1;33m)\u001b[0m\u001b[1;33m\u001b[0m\u001b[1;33m\u001b[0m\u001b[0m\n\u001b[0;32m     12\u001b[0m \u001b[0mplt\u001b[0m\u001b[1;33m.\u001b[0m\u001b[0mylabel\u001b[0m\u001b[1;33m(\u001b[0m\u001b[1;34m\"y\"\u001b[0m\u001b[1;33m,\u001b[0m \u001b[0mcolor\u001b[0m\u001b[1;33m=\u001b[0m\u001b[1;34m\"r\"\u001b[0m\u001b[1;33m)\u001b[0m\u001b[1;33m\u001b[0m\u001b[1;33m\u001b[0m\u001b[0m\n",
      "\u001b[1;31mIndexError\u001b[0m: list index out of range"
     ]
    },
    {
     "data": {
      "image/png": "[encoded data removed]",
      "text/plain": [
       "<Figure size 432x288 with 1 Axes>"
      ]
     },
     "metadata": {
      "needs_background": "light"
     },
     "output_type": "display_data"
    }
   ],
   "source": [
    "fig = plt.figure()\n",
    "points = [[1,1],[2,2],[3,3]]\n",
    "ax = fig.add_subplot(1,1,1)\n",
    "x = np.linspace(0,5,100)\n",
    "plt.plot(x,x*1, \"-r\", label=\"y = 1x\")\n",
    "plt.plot(x,x*0.5, \"-b\", label=\"y = 0.5x\")\n",
    "plt.plot(x,x*0,\"-y\",label=\"y = 0x\")\n",
    "for lt in points:\n",
    "    for x in lt:\n",
    "        plt.scatter(points[x],points[x])\n",
    "plt.xlabel(\"x\", color=\"r\")\n",
    "plt.ylabel(\"y\", color=\"r\")\n",
    "plt.grid()\n",
    "plt.legend(loc=\"upper left\")\n",
    "plt.show()"
   ]
  },
  {
   "cell_type": "markdown",
   "metadata": {},
   "source": [
    "__$$J(\\theta_1)$$__\n",
    "(function of the parameter $\\theta_1$) <br>\n",
    "corresponds to value of $\\theta_1$ => y = x^2 + 1 for the minimalization, so the best is 1 since it is the lowest point of parabola \n",
    "<br>$\\binom{minimize}{\\theta_1}$ $J(\\theta_1)$"
   ]
  },
  {
   "cell_type": "code",
   "execution_count": null,
   "metadata": {},
   "outputs": [],
   "source": [
    " "
   ]
  }
 ],
 "metadata": {
  "kernelspec": {
   "display_name": "Python 3",
   "language": "python",
   "name": "python3"
  },
  "language_info": {
   "codemirror_mode": {
    "name": "ipython",
    "version": 3
   },
   "file_extension": ".py",
   "mimetype": "text/x-python",
   "name": "python",
   "nbconvert_exporter": "python",
   "pygments_lexer": "ipython3",
   "version": "3.8.2"
  }
 },
 "nbformat": 4,
 "nbformat_minor": 4
}
